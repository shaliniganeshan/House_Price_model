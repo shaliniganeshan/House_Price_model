{
 "cells": [
  {
   "cell_type": "code",
   "execution_count": 1,
   "metadata": {
    "id": "aiRLgi73J8JH"
   },
   "outputs": [],
   "source": [
    "# import libraries\n",
    "import pandas as pd\n",
    "import numpy as np"
   ]
  },
  {
   "cell_type": "code",
   "execution_count": 3,
   "metadata": {
    "colab": {
     "base_uri": "https://localhost:8080/",
     "height": 206
    },
    "id": "JJ_knaC7J8JI",
    "outputId": "a40acc48-ece6-4133-f111-2a2cd0fd301b"
   },
   "outputs": [
    {
     "data": {
      "text/html": [
       "<div>\n",
       "<style scoped>\n",
       "    .dataframe tbody tr th:only-of-type {\n",
       "        vertical-align: middle;\n",
       "    }\n",
       "\n",
       "    .dataframe tbody tr th {\n",
       "        vertical-align: top;\n",
       "    }\n",
       "\n",
       "    .dataframe thead th {\n",
       "        text-align: right;\n",
       "    }\n",
       "</style>\n",
       "<table border=\"1\" class=\"dataframe\">\n",
       "  <thead>\n",
       "    <tr style=\"text-align: right;\">\n",
       "      <th></th>\n",
       "      <th>longitude</th>\n",
       "      <th>latitude</th>\n",
       "      <th>housing_median_age</th>\n",
       "      <th>total_rooms</th>\n",
       "      <th>total_bedrooms</th>\n",
       "      <th>population</th>\n",
       "      <th>households</th>\n",
       "      <th>median_income</th>\n",
       "      <th>ocean_proximity</th>\n",
       "      <th>median_house_value</th>\n",
       "    </tr>\n",
       "  </thead>\n",
       "  <tbody>\n",
       "    <tr>\n",
       "      <th>0</th>\n",
       "      <td>-122.23</td>\n",
       "      <td>37.88</td>\n",
       "      <td>41</td>\n",
       "      <td>880</td>\n",
       "      <td>129.0</td>\n",
       "      <td>322</td>\n",
       "      <td>126</td>\n",
       "      <td>8.3252</td>\n",
       "      <td>NEAR BAY</td>\n",
       "      <td>452600</td>\n",
       "    </tr>\n",
       "    <tr>\n",
       "      <th>1</th>\n",
       "      <td>-122.22</td>\n",
       "      <td>37.86</td>\n",
       "      <td>21</td>\n",
       "      <td>7099</td>\n",
       "      <td>1106.0</td>\n",
       "      <td>2401</td>\n",
       "      <td>1138</td>\n",
       "      <td>8.3014</td>\n",
       "      <td>NEAR BAY</td>\n",
       "      <td>358500</td>\n",
       "    </tr>\n",
       "    <tr>\n",
       "      <th>2</th>\n",
       "      <td>-122.24</td>\n",
       "      <td>37.85</td>\n",
       "      <td>52</td>\n",
       "      <td>1467</td>\n",
       "      <td>190.0</td>\n",
       "      <td>496</td>\n",
       "      <td>177</td>\n",
       "      <td>7.2574</td>\n",
       "      <td>NEAR BAY</td>\n",
       "      <td>352100</td>\n",
       "    </tr>\n",
       "    <tr>\n",
       "      <th>3</th>\n",
       "      <td>-122.25</td>\n",
       "      <td>37.85</td>\n",
       "      <td>52</td>\n",
       "      <td>1274</td>\n",
       "      <td>235.0</td>\n",
       "      <td>558</td>\n",
       "      <td>219</td>\n",
       "      <td>5.6431</td>\n",
       "      <td>NEAR BAY</td>\n",
       "      <td>341300</td>\n",
       "    </tr>\n",
       "    <tr>\n",
       "      <th>4</th>\n",
       "      <td>-122.25</td>\n",
       "      <td>37.85</td>\n",
       "      <td>52</td>\n",
       "      <td>1627</td>\n",
       "      <td>280.0</td>\n",
       "      <td>565</td>\n",
       "      <td>259</td>\n",
       "      <td>3.8462</td>\n",
       "      <td>NEAR BAY</td>\n",
       "      <td>342200</td>\n",
       "    </tr>\n",
       "  </tbody>\n",
       "</table>\n",
       "</div>"
      ],
      "text/plain": [
       "   longitude  latitude  housing_median_age  total_rooms  total_bedrooms  \\\n",
       "0    -122.23     37.88                  41          880           129.0   \n",
       "1    -122.22     37.86                  21         7099          1106.0   \n",
       "2    -122.24     37.85                  52         1467           190.0   \n",
       "3    -122.25     37.85                  52         1274           235.0   \n",
       "4    -122.25     37.85                  52         1627           280.0   \n",
       "\n",
       "   population  households  median_income ocean_proximity  median_house_value  \n",
       "0         322         126         8.3252        NEAR BAY              452600  \n",
       "1        2401        1138         8.3014        NEAR BAY              358500  \n",
       "2         496         177         7.2574        NEAR BAY              352100  \n",
       "3         558         219         5.6431        NEAR BAY              341300  \n",
       "4         565         259         3.8462        NEAR BAY              342200  "
      ]
     },
     "execution_count": 3,
     "metadata": {},
     "output_type": "execute_result"
    }
   ],
   "source": [
    "# loading data set\n",
    "df = pd.read_csv(\"housing.csv\")\n",
    "df.head()"
   ]
  },
  {
   "cell_type": "code",
   "execution_count": 4,
   "metadata": {
    "colab": {
     "base_uri": "https://localhost:8080/"
    },
    "id": "nn2H5lNoJ8JJ",
    "outputId": "9551b384-edde-4c23-fa05-37001a58f1de"
   },
   "outputs": [
    {
     "data": {
      "text/plain": [
       "(20640, 10)"
      ]
     },
     "execution_count": 4,
     "metadata": {},
     "output_type": "execute_result"
    }
   ],
   "source": [
    "# checking data row and coloumns\n",
    "df.shape"
   ]
  },
  {
   "cell_type": "markdown",
   "metadata": {
    "id": "72LL9KucOMh3"
   },
   "source": [
    "**Independent and dependent var**"
   ]
  },
  {
   "cell_type": "code",
   "execution_count": 5,
   "metadata": {
    "colab": {
     "base_uri": "https://localhost:8080/"
    },
    "id": "i2o9TXydJ8JJ",
    "outputId": "4687b6a8-ed3c-4d2d-a330-58bb894fed99"
   },
   "outputs": [
    {
     "data": {
      "text/plain": [
       "Index(['longitude', 'latitude', 'housing_median_age', 'total_rooms',\n",
       "       'total_bedrooms', 'population', 'households', 'median_income',\n",
       "       'ocean_proximity', 'median_house_value'],\n",
       "      dtype='object')"
      ]
     },
     "execution_count": 5,
     "metadata": {},
     "output_type": "execute_result"
    }
   ],
   "source": [
    "# independedent data \n",
    "df.columns"
   ]
  },
  {
   "cell_type": "code",
   "execution_count": 6,
   "metadata": {
    "colab": {
     "base_uri": "https://localhost:8080/"
    },
    "id": "00mVI0XzJ8JJ",
    "outputId": "71f30a3d-2f31-4cdd-cc7b-b7e4d50dfc86"
   },
   "outputs": [
    {
     "data": {
      "text/plain": [
       "0        452600\n",
       "1        358500\n",
       "2        352100\n",
       "3        341300\n",
       "4        342200\n",
       "          ...  \n",
       "20635     78100\n",
       "20636     77100\n",
       "20637     92300\n",
       "20638     84700\n",
       "20639     89400\n",
       "Name: target, Length: 20640, dtype: int64"
      ]
     },
     "execution_count": 6,
     "metadata": {},
     "output_type": "execute_result"
    }
   ],
   "source": [
    "#dependented data\n",
    "df[\"target\"]=df.median_house_value\n",
    "df[\"target\"]"
   ]
  },
  {
   "cell_type": "code",
   "execution_count": 7,
   "metadata": {
    "id": "eRDoLcDIJ8JJ"
   },
   "outputs": [],
   "source": [
    "#Explore the data for reduce unwantedcolumns in it \n",
    "# data pre process"
   ]
  },
  {
   "cell_type": "code",
   "execution_count": 8,
   "metadata": {
    "colab": {
     "base_uri": "https://localhost:8080/"
    },
    "id": "uRT4jbJpJ8JJ",
    "outputId": "e38a47b7-9a5e-4435-db39-63474bce1a37"
   },
   "outputs": [
    {
     "data": {
      "text/plain": [
       "longitude               0\n",
       "latitude                0\n",
       "housing_median_age      0\n",
       "total_rooms             0\n",
       "total_bedrooms        207\n",
       "population              0\n",
       "households              0\n",
       "median_income           0\n",
       "ocean_proximity         0\n",
       "median_house_value      0\n",
       "target                  0\n",
       "dtype: int64"
      ]
     },
     "execution_count": 8,
     "metadata": {},
     "output_type": "execute_result"
    }
   ],
   "source": [
    "df.isnull().sum()"
   ]
  },
  {
   "cell_type": "code",
   "execution_count": 9,
   "metadata": {
    "colab": {
     "base_uri": "https://localhost:8080/",
     "height": 424
    },
    "id": "SsxMV8zyJ8JK",
    "outputId": "8e2a3278-84c6-4724-d1ac-d0c1a86143ff"
   },
   "outputs": [
    {
     "data": {
      "text/html": [
       "<div>\n",
       "<style scoped>\n",
       "    .dataframe tbody tr th:only-of-type {\n",
       "        vertical-align: middle;\n",
       "    }\n",
       "\n",
       "    .dataframe tbody tr th {\n",
       "        vertical-align: top;\n",
       "    }\n",
       "\n",
       "    .dataframe thead th {\n",
       "        text-align: right;\n",
       "    }\n",
       "</style>\n",
       "<table border=\"1\" class=\"dataframe\">\n",
       "  <thead>\n",
       "    <tr style=\"text-align: right;\">\n",
       "      <th></th>\n",
       "      <th>housing_median_age</th>\n",
       "      <th>total_rooms</th>\n",
       "      <th>total_bedrooms</th>\n",
       "      <th>population</th>\n",
       "      <th>households</th>\n",
       "      <th>median_income</th>\n",
       "      <th>ocean_proximity</th>\n",
       "    </tr>\n",
       "  </thead>\n",
       "  <tbody>\n",
       "    <tr>\n",
       "      <th>0</th>\n",
       "      <td>41</td>\n",
       "      <td>880</td>\n",
       "      <td>129.0</td>\n",
       "      <td>322</td>\n",
       "      <td>126</td>\n",
       "      <td>8.3252</td>\n",
       "      <td>NEAR BAY</td>\n",
       "    </tr>\n",
       "    <tr>\n",
       "      <th>1</th>\n",
       "      <td>21</td>\n",
       "      <td>7099</td>\n",
       "      <td>1106.0</td>\n",
       "      <td>2401</td>\n",
       "      <td>1138</td>\n",
       "      <td>8.3014</td>\n",
       "      <td>NEAR BAY</td>\n",
       "    </tr>\n",
       "    <tr>\n",
       "      <th>2</th>\n",
       "      <td>52</td>\n",
       "      <td>1467</td>\n",
       "      <td>190.0</td>\n",
       "      <td>496</td>\n",
       "      <td>177</td>\n",
       "      <td>7.2574</td>\n",
       "      <td>NEAR BAY</td>\n",
       "    </tr>\n",
       "    <tr>\n",
       "      <th>3</th>\n",
       "      <td>52</td>\n",
       "      <td>1274</td>\n",
       "      <td>235.0</td>\n",
       "      <td>558</td>\n",
       "      <td>219</td>\n",
       "      <td>5.6431</td>\n",
       "      <td>NEAR BAY</td>\n",
       "    </tr>\n",
       "    <tr>\n",
       "      <th>4</th>\n",
       "      <td>52</td>\n",
       "      <td>1627</td>\n",
       "      <td>280.0</td>\n",
       "      <td>565</td>\n",
       "      <td>259</td>\n",
       "      <td>3.8462</td>\n",
       "      <td>NEAR BAY</td>\n",
       "    </tr>\n",
       "    <tr>\n",
       "      <th>...</th>\n",
       "      <td>...</td>\n",
       "      <td>...</td>\n",
       "      <td>...</td>\n",
       "      <td>...</td>\n",
       "      <td>...</td>\n",
       "      <td>...</td>\n",
       "      <td>...</td>\n",
       "    </tr>\n",
       "    <tr>\n",
       "      <th>20635</th>\n",
       "      <td>25</td>\n",
       "      <td>1665</td>\n",
       "      <td>374.0</td>\n",
       "      <td>845</td>\n",
       "      <td>330</td>\n",
       "      <td>1.5603</td>\n",
       "      <td>INLAND</td>\n",
       "    </tr>\n",
       "    <tr>\n",
       "      <th>20636</th>\n",
       "      <td>18</td>\n",
       "      <td>697</td>\n",
       "      <td>150.0</td>\n",
       "      <td>356</td>\n",
       "      <td>114</td>\n",
       "      <td>2.5568</td>\n",
       "      <td>INLAND</td>\n",
       "    </tr>\n",
       "    <tr>\n",
       "      <th>20637</th>\n",
       "      <td>17</td>\n",
       "      <td>2254</td>\n",
       "      <td>485.0</td>\n",
       "      <td>1007</td>\n",
       "      <td>433</td>\n",
       "      <td>1.7000</td>\n",
       "      <td>INLAND</td>\n",
       "    </tr>\n",
       "    <tr>\n",
       "      <th>20638</th>\n",
       "      <td>18</td>\n",
       "      <td>1860</td>\n",
       "      <td>409.0</td>\n",
       "      <td>741</td>\n",
       "      <td>349</td>\n",
       "      <td>1.8672</td>\n",
       "      <td>INLAND</td>\n",
       "    </tr>\n",
       "    <tr>\n",
       "      <th>20639</th>\n",
       "      <td>16</td>\n",
       "      <td>2785</td>\n",
       "      <td>616.0</td>\n",
       "      <td>1387</td>\n",
       "      <td>530</td>\n",
       "      <td>2.3886</td>\n",
       "      <td>INLAND</td>\n",
       "    </tr>\n",
       "  </tbody>\n",
       "</table>\n",
       "<p>20640 rows × 7 columns</p>\n",
       "</div>"
      ],
      "text/plain": [
       "       housing_median_age  total_rooms  total_bedrooms  population  \\\n",
       "0                      41          880           129.0         322   \n",
       "1                      21         7099          1106.0        2401   \n",
       "2                      52         1467           190.0         496   \n",
       "3                      52         1274           235.0         558   \n",
       "4                      52         1627           280.0         565   \n",
       "...                   ...          ...             ...         ...   \n",
       "20635                  25         1665           374.0         845   \n",
       "20636                  18          697           150.0         356   \n",
       "20637                  17         2254           485.0        1007   \n",
       "20638                  18         1860           409.0         741   \n",
       "20639                  16         2785           616.0        1387   \n",
       "\n",
       "       households  median_income ocean_proximity  \n",
       "0             126         8.3252        NEAR BAY  \n",
       "1            1138         8.3014        NEAR BAY  \n",
       "2             177         7.2574        NEAR BAY  \n",
       "3             219         5.6431        NEAR BAY  \n",
       "4             259         3.8462        NEAR BAY  \n",
       "...           ...            ...             ...  \n",
       "20635         330         1.5603          INLAND  \n",
       "20636         114         2.5568          INLAND  \n",
       "20637         433         1.7000          INLAND  \n",
       "20638         349         1.8672          INLAND  \n",
       "20639         530         2.3886          INLAND  \n",
       "\n",
       "[20640 rows x 7 columns]"
      ]
     },
     "execution_count": 9,
     "metadata": {},
     "output_type": "execute_result"
    }
   ],
   "source": [
    "df.drop([\"longitude\",\"latitude\",\"median_house_value\",\"target\"],axis=1)"
   ]
  },
  {
   "cell_type": "code",
   "execution_count": 10,
   "metadata": {
    "colab": {
     "base_uri": "https://localhost:8080/"
    },
    "id": "XspwooMJJ8JK",
    "outputId": "4d8390e0-4abb-4b31-b5c9-1b87686d99af"
   },
   "outputs": [
    {
     "name": "stdout",
     "output_type": "stream",
     "text": [
      "<class 'pandas.core.frame.DataFrame'>\n",
      "RangeIndex: 20640 entries, 0 to 20639\n",
      "Data columns (total 11 columns):\n",
      " #   Column              Non-Null Count  Dtype  \n",
      "---  ------              --------------  -----  \n",
      " 0   longitude           20640 non-null  float64\n",
      " 1   latitude            20640 non-null  float64\n",
      " 2   housing_median_age  20640 non-null  int64  \n",
      " 3   total_rooms         20640 non-null  int64  \n",
      " 4   total_bedrooms      20433 non-null  float64\n",
      " 5   population          20640 non-null  int64  \n",
      " 6   households          20640 non-null  int64  \n",
      " 7   median_income       20640 non-null  float64\n",
      " 8   ocean_proximity     20640 non-null  object \n",
      " 9   median_house_value  20640 non-null  int64  \n",
      " 10  target              20640 non-null  int64  \n",
      "dtypes: float64(4), int64(6), object(1)\n",
      "memory usage: 1.7+ MB\n"
     ]
    }
   ],
   "source": [
    "df.info()"
   ]
  },
  {
   "cell_type": "code",
   "execution_count": 11,
   "metadata": {
    "colab": {
     "base_uri": "https://localhost:8080/"
    },
    "id": "tEe3YSCxJ8JK",
    "outputId": "e100c613-9c2c-4b12-d20c-bb515f04af9d"
   },
   "outputs": [
    {
     "data": {
      "text/plain": [
       "280.0     55\n",
       "331.0     51\n",
       "345.0     50\n",
       "343.0     49\n",
       "393.0     49\n",
       "          ..\n",
       "2961.0     1\n",
       "1915.0     1\n",
       "1215.0     1\n",
       "3298.0     1\n",
       "1052.0     1\n",
       "Name: total_bedrooms, Length: 1923, dtype: int64"
      ]
     },
     "execution_count": 11,
     "metadata": {},
     "output_type": "execute_result"
    }
   ],
   "source": [
    "# total_bedrooms      20433  have none value need to replace with frequent value \n",
    "df[\"total_bedrooms\"].value_counts()"
   ]
  },
  {
   "cell_type": "code",
   "execution_count": 12,
   "metadata": {
    "colab": {
     "base_uri": "https://localhost:8080/"
    },
    "id": "4wGUfa2DJ8JK",
    "outputId": "fff7f944-099b-40c4-d6d4-734cb2bedc44"
   },
   "outputs": [
    {
     "data": {
      "text/plain": [
       "280.0"
      ]
     },
     "execution_count": 12,
     "metadata": {},
     "output_type": "execute_result"
    }
   ],
   "source": [
    "df[\"total_bedrooms\"].mode()[0]"
   ]
  },
  {
   "cell_type": "code",
   "execution_count": 13,
   "metadata": {
    "colab": {
     "base_uri": "https://localhost:8080/"
    },
    "id": "hlq8JeZBJ8JK",
    "outputId": "6170c66e-ab04-4295-ddab-2357d4c44bd4"
   },
   "outputs": [
    {
     "data": {
      "text/plain": [
       "array([ 129., 1106.,  190., ..., 3008., 1857., 1052.])"
      ]
     },
     "execution_count": 13,
     "metadata": {},
     "output_type": "execute_result"
    }
   ],
   "source": [
    "# total_bedrooms  missing value filled with 280\n",
    "df[\"total_bedrooms\"]=df[\"total_bedrooms\"].fillna(df[\"total_bedrooms\"].mode()[0])\n",
    "df[\"total_bedrooms\"].unique()"
   ]
  },
  {
   "cell_type": "code",
   "execution_count": 14,
   "metadata": {
    "id": "3BVR35T_J8JL"
   },
   "outputs": [],
   "source": [
    "# Label encoder initialize for preprocess the ocean_proximity\n",
    "from sklearn.preprocessing import LabelEncoder\n",
    "le=LabelEncoder()"
   ]
  },
  {
   "cell_type": "code",
   "execution_count": 15,
   "metadata": {
    "colab": {
     "base_uri": "https://localhost:8080/"
    },
    "id": "gN7c9sOEJ8JL",
    "outputId": "524565da-6943-41a1-e0cb-f7a713ad3f75"
   },
   "outputs": [
    {
     "data": {
      "text/plain": [
       "array([3, 0, 1, 4, 2])"
      ]
     },
     "execution_count": 15,
     "metadata": {},
     "output_type": "execute_result"
    }
   ],
   "source": [
    "df[\"ocean_proximity\"]=le.fit_transform(df[\"ocean_proximity\"])\n",
    "df[\"ocean_proximity\"].unique() # no non value\n"
   ]
  },
  {
   "cell_type": "code",
   "execution_count": 16,
   "metadata": {
    "colab": {
     "base_uri": "https://localhost:8080/"
    },
    "id": "K_6Y6wbpJ8JL",
    "outputId": "1f8544d0-602a-49e7-f015-dc24bcb5c7ae"
   },
   "outputs": [
    {
     "data": {
      "text/plain": [
       "longitude             0\n",
       "latitude              0\n",
       "housing_median_age    0\n",
       "total_rooms           0\n",
       "total_bedrooms        0\n",
       "population            0\n",
       "households            0\n",
       "median_income         0\n",
       "ocean_proximity       0\n",
       "median_house_value    0\n",
       "target                0\n",
       "dtype: int64"
      ]
     },
     "execution_count": 16,
     "metadata": {},
     "output_type": "execute_result"
    }
   ],
   "source": [
    "df.isnull().sum() # data don't have none value now"
   ]
  },
  {
   "cell_type": "code",
   "execution_count": 17,
   "metadata": {
    "id": "XbQ6L1fyJ8JL"
   },
   "outputs": [],
   "source": [
    "# models using  and remove unwanted fields\n",
    "y=df.iloc[:,-1]\n",
    "df.drop(labels=[\"target\",\"median_house_value\",\"longitude\",\"latitude\"],axis=1,inplace=True)"
   ]
  },
  {
   "cell_type": "code",
   "execution_count": 18,
   "metadata": {
    "id": "Wu_zWWbkKoML"
   },
   "outputs": [],
   "source": [
    "X=df.iloc[:,:].values"
   ]
  },
  {
   "cell_type": "code",
   "execution_count": 19,
   "metadata": {
    "id": "1U7l9VR9J8JL"
   },
   "outputs": [],
   "source": [
    "# data split 80:20\n",
    "from sklearn.model_selection import train_test_split\n",
    "X_train,X_test,y_train,y_test=train_test_split(X,y,test_size=0.2,random_state=42)"
   ]
  },
  {
   "cell_type": "markdown",
   "metadata": {},
   "source": [
    "## Decision tree\n"
   ]
  },
  {
   "cell_type": "code",
   "execution_count": 21,
   "metadata": {
    "colab": {
     "base_uri": "https://localhost:8080/"
    },
    "id": "gC2PLK5-J8JL",
    "outputId": "c2e521f0-a77a-4495-de8b-b5e8fe41b2c5"
   },
   "outputs": [
    {
     "data": {
      "text/plain": [
       "DecisionTreeClassifier(ccp_alpha=0.0, class_weight=None, criterion='gini',\n",
       "                       max_depth=None, max_features=None, max_leaf_nodes=None,\n",
       "                       min_impurity_decrease=0.0, min_impurity_split=None,\n",
       "                       min_samples_leaf=1, min_samples_split=2,\n",
       "                       min_weight_fraction_leaf=0.0, presort='deprecated',\n",
       "                       random_state=None, splitter='best')"
      ]
     },
     "execution_count": 21,
     "metadata": {},
     "output_type": "execute_result"
    }
   ],
   "source": [
    "from sklearn.tree import DecisionTreeClassifier\n",
    "cls=DecisionTreeClassifier()\n",
    "cls.fit(X_train,y_train)"
   ]
  },
  {
   "cell_type": "code",
   "execution_count": 22,
   "metadata": {
    "colab": {
     "base_uri": "https://localhost:8080/"
    },
    "id": "yxojtIe6J8JL",
    "outputId": "3491df5b-ba56-458b-efb7-130a8697fae2"
   },
   "outputs": [
    {
     "data": {
      "text/plain": [
       "array([ 48700,  73100, 500001, ..., 500001,  93000, 201300])"
      ]
     },
     "execution_count": 22,
     "metadata": {},
     "output_type": "execute_result"
    }
   ],
   "source": [
    "y_pred=cls.predict(X_test)\n",
    "y_pred"
   ]
  },
  {
   "cell_type": "code",
   "execution_count": 23,
   "metadata": {
    "colab": {
     "base_uri": "https://localhost:8080/",
     "height": 363
    },
    "id": "_IwpLhITM3eW",
    "outputId": "c888dde5-9707-4b5a-cd6d-a8142f07c8e5"
   },
   "outputs": [
    {
     "data": {
      "text/plain": [
       "38.682906859740264"
      ]
     },
     "execution_count": 23,
     "metadata": {},
     "output_type": "execute_result"
    }
   ],
   "source": [
    "# accuracy of the Decition tree\n",
    "from sklearn.metrics import r2_score\n",
    "accuracy = r2_score(y_test,y_pred)*100\n",
    "accuracy"
   ]
  },
  {
   "cell_type": "code",
   "execution_count": 24,
   "metadata": {
    "colab": {
     "base_uri": "https://localhost:8080/",
     "height": 363
    },
    "id": "pHl8DEnvNUPZ",
    "outputId": "6715ec90-8eb1-4fc7-8734-e5d400c1f361"
   },
   "outputs": [
    {
     "data": {
      "text/plain": [
       "89638.42332985885"
      ]
     },
     "execution_count": 24,
     "metadata": {},
     "output_type": "execute_result"
    }
   ],
   "source": [
    "# calc MSE\n",
    "from sklearn.metrics import mean_squared_error\n",
    "MSE=mean_squared_error(y_test,y_pred,squared=False)\n",
    "MSE"
   ]
  },
  {
   "cell_type": "markdown",
   "metadata": {
    "colab": {
     "base_uri": "https://localhost:8080/"
    },
    "id": "jyiyQ-orNj13",
    "outputId": "1aad377b-56ee-4825-d0af-38c5497dd41d"
   },
   "source": [
    "## Checking model with external I/p value"
   ]
  },
  {
   "cell_type": "code",
   "execution_count": 25,
   "metadata": {
    "id": "sNaK_W-6Nzt3"
   },
   "outputs": [],
   "source": [
    "ip=np.array([52,1467,190.0,496,177,7.2574,3])\n",
    "ip=ip.reshape((1,-1))"
   ]
  },
  {
   "cell_type": "code",
   "execution_count": 26,
   "metadata": {
    "colab": {
     "base_uri": "https://localhost:8080/"
    },
    "id": "B3-rrOZfOinT",
    "outputId": "3a870d83-cad2-41ba-db19-631c28b00e41"
   },
   "outputs": [
    {
     "name": "stdout",
     "output_type": "stream",
     "text": [
      "what is amount of this mentioned details [52,1467,190.0,496,177,7.2574,3] = [352100]\n"
     ]
    }
   ],
   "source": [
    "op=cls.predict(ip)\n",
    "print(f\"what is amount of this mentioned details [52,1467,190.0,496,177,7.2574,3] = {op}\")"
   ]
  },
  {
   "cell_type": "markdown",
   "metadata": {},
   "source": [
    "## Random Forest Classifier"
   ]
  },
  {
   "cell_type": "code",
   "execution_count": 27,
   "metadata": {
    "id": "Wr9ALdw9O2hM"
   },
   "outputs": [],
   "source": [
    "from sklearn.ensemble import RandomForestClassifier\n",
    "from sklearn.metrics import accuracy_score"
   ]
  },
  {
   "cell_type": "code",
   "execution_count": 28,
   "metadata": {
    "id": "DzedYOWME_KY"
   },
   "outputs": [],
   "source": [
    "cls2=RandomForestClassifier()"
   ]
  },
  {
   "cell_type": "code",
   "execution_count": 132,
   "metadata": {
    "id": "FgRKUyoEFF6Z"
   },
   "outputs": [],
   "source": [
    "cls2=RandomForestClassifier()\n",
    "cls2.fit(X_train,y_train)\n",
    "y_pred=cls2.predict(X_test)\n",
    "accuracy=accuracy_score(y_pred,y_test)"
   ]
  },
  {
   "cell_type": "markdown",
   "metadata": {},
   "source": [
    "## Linear Regression "
   ]
  },
  {
   "cell_type": "code",
   "execution_count": 30,
   "metadata": {
    "id": "xVr-nCKpc17s"
   },
   "outputs": [],
   "source": [
    "from sklearn.linear_model import LinearRegression\n",
    "lm=LinearRegression()"
   ]
  },
  {
   "cell_type": "code",
   "execution_count": 35,
   "metadata": {
    "colab": {
     "base_uri": "https://localhost:8080/"
    },
    "id": "lTu9EBUfdXcK",
    "outputId": "e8122b7d-eaa9-451e-dd98-662978fc91c2"
   },
   "outputs": [
    {
     "name": "stdout",
     "output_type": "stream",
     "text": [
      "coeff value for original data set [ 1.80597108e+03 -1.84880001e+01  6.79973942e+01 -3.50458680e+01\n",
      "  1.53518335e+02  4.72832986e+04  4.42114328e+03]\n",
      "intercept_ value for original data set -47438.1020624511\n"
     ]
    }
   ],
   "source": [
    "# original data model coeff and intercept\n",
    "lm.fit(X,y)\n",
    "print(f\"coeff value for original data set {lm.coef_}\")\n",
    "\n",
    "print(f\"intercept_ value for original data set {lm.intercept_}\")"
   ]
  },
  {
   "cell_type": "code",
   "execution_count": null,
   "metadata": {
    "colab": {
     "base_uri": "https://localhost:8080/"
    },
    "id": "Upk688O4djFS",
    "outputId": "a3f55178-494d-4c56-c784-0b2ed88525c4"
   },
   "outputs": [],
   "source": [
    "# trained model coeff and intercept "
   ]
  },
  {
   "cell_type": "code",
   "execution_count": 37,
   "metadata": {
    "colab": {
     "base_uri": "https://localhost:8080/"
    },
    "id": "dtuRttXmhmfe",
    "outputId": "36b18dbe-5758-4051-cd30-0c6223b3bbf4"
   },
   "outputs": [
    {
     "data": {
      "text/plain": [
       "LinearRegression(copy_X=True, fit_intercept=True, n_jobs=None, normalize=False)"
      ]
     },
     "execution_count": 37,
     "metadata": {},
     "output_type": "execute_result"
    }
   ],
   "source": [
    "lm.fit(X_train,y_train)"
   ]
  },
  {
   "cell_type": "code",
   "execution_count": 38,
   "metadata": {
    "colab": {
     "base_uri": "https://localhost:8080/"
    },
    "id": "dN-rwCvphs1i",
    "outputId": "96762c57-b0e9-415f-ce32-4ea590acad4b"
   },
   "outputs": [
    {
     "name": "stdout",
     "output_type": "stream",
     "text": [
      "coeff value for trained data set [ 1.84281689e+03 -2.04801898e+01  1.03232060e+02 -3.39731843e+01\n",
      "  1.23390221e+02  4.80797245e+04  4.01963337e+03]\n",
      "intercept_ value for trained data set -51484.087149107596\n"
     ]
    }
   ],
   "source": [
    "print(f\"coeff value for trained data set {lm.coef_}\")\n",
    "print(f\"intercept_ value for trained data set {lm.intercept_}\")"
   ]
  },
  {
   "cell_type": "code",
   "execution_count": 40,
   "metadata": {
    "colab": {
     "base_uri": "https://localhost:8080/"
    },
    "id": "HxFIXjijhyoe",
    "outputId": "9e87aef1-cb29-42f6-9589-55046aca094f"
   },
   "outputs": [],
   "source": [
    "# y_prediction"
   ]
  },
  {
   "cell_type": "code",
   "execution_count": 41,
   "metadata": {
    "colab": {
     "base_uri": "https://localhost:8080/"
    },
    "id": "hzHelQrsh0-y",
    "outputId": "49c1f31d-fdef-4133-fd94-bc503e3b50b8"
   },
   "outputs": [
    {
     "name": "stdout",
     "output_type": "stream",
     "text": [
      "model predicted [ 74526.3092009  117047.89330818 248509.30160755 ... 425935.51243906\n",
      " 166343.15870535 160335.76187807]\n"
     ]
    }
   ],
   "source": [
    "lm_pred=lm.predict(X_test)\n",
    "print(f\"model predicted {lm_pred}\")"
   ]
  },
  {
   "cell_type": "markdown",
   "metadata": {
    "colab": {
     "base_uri": "https://localhost:8080/"
    },
    "id": "TQKOErNYiHfe",
    "outputId": "07a1c62b-0da5-4248-e6c3-5850e898b30f"
   },
   "source": [
    " Linear Regeression MSE"
   ]
  },
  {
   "cell_type": "code",
   "execution_count": 50,
   "metadata": {
    "colab": {
     "base_uri": "https://localhost:8080/"
    },
    "id": "LSr8g0DViSa5",
    "outputId": "5f9e2e61-b3be-4a5a-fe85-e67c9287c934"
   },
   "outputs": [
    {
     "name": "stdout",
     "output_type": "stream",
     "text": [
      "77029.81628854056\n",
      "accuracy of the models 0.5471953645027985\n",
      "MSE Value ------------------->5933592597.446308\n",
      "RMSE Value ------------------->77029.81628854056\n"
     ]
    }
   ],
   "source": [
    "from sklearn.metrics import mean_squared_error\n",
    "import math\n",
    "print(math.sqrt(mean_squared_error(lm_pred,y_test)))\n",
    "from sklearn.metrics import r2_score\n",
    "r_squr = r2_score(y_test,lm_pred)\n",
    "print(f\"accuracy of the models {r_squr}\")\n",
    "print(f\"MSE Value ------------------->{mean_squared_error(lm_pred,y_test)}\")\n",
    "print(f\"RMSE Value ------------------->{math.sqrt(mean_squared_error(lm_pred,y_test))}\")"
   ]
  },
  {
   "cell_type": "code",
   "execution_count": 51,
   "metadata": {},
   "outputs": [],
   "source": [
    "# using state models for improving accuracy "
   ]
  },
  {
   "cell_type": "code",
   "execution_count": 52,
   "metadata": {
    "colab": {
     "base_uri": "https://localhost:8080/"
    },
    "id": "1m0Um8Z3jzPs",
    "outputId": "cd2d49f5-af09-49e6-a641-569d2d052051"
   },
   "outputs": [],
   "source": [
    "import statsmodels.api as smf\n",
    "X_train_smf=smf.add_constant(X_train)\n",
    "lr=smf.OLS(y_train,X_train_smf).fit()"
   ]
  },
  {
   "cell_type": "code",
   "execution_count": 53,
   "metadata": {
    "colab": {
     "base_uri": "https://localhost:8080/"
    },
    "id": "fXxQMg1dkg0f",
    "outputId": "9c88b19f-418f-409f-e1f2-fb3cdcf60276"
   },
   "outputs": [
    {
     "data": {
      "text/plain": [
       "const   -51484.087149\n",
       "x1        1842.816894\n",
       "x2         -20.480190\n",
       "x3         103.232060\n",
       "x4         -33.973184\n",
       "x5         123.390221\n",
       "x6       48079.724470\n",
       "x7        4019.633370\n",
       "dtype: float64"
      ]
     },
     "execution_count": 53,
     "metadata": {},
     "output_type": "execute_result"
    }
   ],
   "source": [
    "lr.params"
   ]
  },
  {
   "cell_type": "code",
   "execution_count": 69,
   "metadata": {
    "colab": {
     "base_uri": "https://localhost:8080/",
     "height": 614
    },
    "id": "ivjUv4KQkj8j",
    "outputId": "e2a2ddb4-8098-4274-a8b2-eaf254d65398"
   },
   "outputs": [
    {
     "data": {
      "text/html": [
       "<table class=\"simpletable\">\n",
       "<caption>OLS Regression Results</caption>\n",
       "<tr>\n",
       "  <th>Dep. Variable:</th>         <td>target</td>      <th>  R-squared:         </th>  <td>   0.572</td>  \n",
       "</tr>\n",
       "<tr>\n",
       "  <th>Model:</th>                   <td>OLS</td>       <th>  Adj. R-squared:    </th>  <td>   0.572</td>  \n",
       "</tr>\n",
       "<tr>\n",
       "  <th>Method:</th>             <td>Least Squares</td>  <th>  F-statistic:       </th>  <td>   3156.</td>  \n",
       "</tr>\n",
       "<tr>\n",
       "  <th>Date:</th>             <td>Thu, 02 Feb 2023</td> <th>  Prob (F-statistic):</th>   <td>  0.00</td>   \n",
       "</tr>\n",
       "<tr>\n",
       "  <th>Time:</th>                 <td>20:33:25</td>     <th>  Log-Likelihood:    </th> <td>-2.0891e+05</td>\n",
       "</tr>\n",
       "<tr>\n",
       "  <th>No. Observations:</th>      <td> 16512</td>      <th>  AIC:               </th>  <td>4.178e+05</td> \n",
       "</tr>\n",
       "<tr>\n",
       "  <th>Df Residuals:</th>          <td> 16504</td>      <th>  BIC:               </th>  <td>4.179e+05</td> \n",
       "</tr>\n",
       "<tr>\n",
       "  <th>Df Model:</th>              <td>     7</td>      <th>                     </th>      <td> </td>     \n",
       "</tr>\n",
       "<tr>\n",
       "  <th>Covariance Type:</th>      <td>nonrobust</td>    <th>                     </th>      <td> </td>     \n",
       "</tr>\n",
       "</table>\n",
       "<table class=\"simpletable\">\n",
       "<tr>\n",
       "    <td></td>       <th>coef</th>     <th>std err</th>      <th>t</th>      <th>P>|t|</th>  <th>[0.025</th>    <th>0.975]</th>  \n",
       "</tr>\n",
       "<tr>\n",
       "  <th>const</th> <td>-5.148e+04</td> <td> 2526.090</td> <td>  -20.381</td> <td> 0.000</td> <td>-5.64e+04</td> <td>-4.65e+04</td>\n",
       "</tr>\n",
       "<tr>\n",
       "  <th>x1</th>    <td> 1842.8169</td> <td>   50.691</td> <td>   36.354</td> <td> 0.000</td> <td> 1743.458</td> <td> 1942.176</td>\n",
       "</tr>\n",
       "<tr>\n",
       "  <th>x2</th>    <td>  -20.4802</td> <td>    0.938</td> <td>  -21.835</td> <td> 0.000</td> <td>  -22.319</td> <td>  -18.642</td>\n",
       "</tr>\n",
       "<tr>\n",
       "  <th>x3</th>    <td>  103.2321</td> <td>    8.403</td> <td>   12.285</td> <td> 0.000</td> <td>   86.762</td> <td>  119.702</td>\n",
       "</tr>\n",
       "<tr>\n",
       "  <th>x4</th>    <td>  -33.9732</td> <td>    1.301</td> <td>  -26.122</td> <td> 0.000</td> <td>  -36.522</td> <td>  -31.424</td>\n",
       "</tr>\n",
       "<tr>\n",
       "  <th>x5</th>    <td>  123.3902</td> <td>    9.067</td> <td>   13.608</td> <td> 0.000</td> <td>  105.618</td> <td>  141.163</td>\n",
       "</tr>\n",
       "<tr>\n",
       "  <th>x6</th>    <td> 4.808e+04</td> <td>  381.612</td> <td>  125.991</td> <td> 0.000</td> <td> 4.73e+04</td> <td> 4.88e+04</td>\n",
       "</tr>\n",
       "<tr>\n",
       "  <th>x7</th>    <td> 4019.6334</td> <td>  422.457</td> <td>    9.515</td> <td> 0.000</td> <td> 3191.573</td> <td> 4847.694</td>\n",
       "</tr>\n",
       "</table>\n",
       "<table class=\"simpletable\">\n",
       "<tr>\n",
       "  <th>Omnibus:</th>       <td>3245.984</td> <th>  Durbin-Watson:     </th> <td>   1.965</td> \n",
       "</tr>\n",
       "<tr>\n",
       "  <th>Prob(Omnibus):</th>  <td> 0.000</td>  <th>  Jarque-Bera (JB):  </th> <td>10949.435</td>\n",
       "</tr>\n",
       "<tr>\n",
       "  <th>Skew:</th>           <td> 0.984</td>  <th>  Prob(JB):          </th> <td>    0.00</td> \n",
       "</tr>\n",
       "<tr>\n",
       "  <th>Kurtosis:</th>       <td> 6.470</td>  <th>  Cond. No.          </th> <td>1.70e+04</td> \n",
       "</tr>\n",
       "</table><br/><br/>Warnings:<br/>[1] Standard Errors assume that the covariance matrix of the errors is correctly specified.<br/>[2] The condition number is large, 1.7e+04. This might indicate that there are<br/>strong multicollinearity or other numerical problems."
      ],
      "text/plain": [
       "<class 'statsmodels.iolib.summary.Summary'>\n",
       "\"\"\"\n",
       "                            OLS Regression Results                            \n",
       "==============================================================================\n",
       "Dep. Variable:                 target   R-squared:                       0.572\n",
       "Model:                            OLS   Adj. R-squared:                  0.572\n",
       "Method:                 Least Squares   F-statistic:                     3156.\n",
       "Date:                Thu, 02 Feb 2023   Prob (F-statistic):               0.00\n",
       "Time:                        20:33:25   Log-Likelihood:            -2.0891e+05\n",
       "No. Observations:               16512   AIC:                         4.178e+05\n",
       "Df Residuals:                   16504   BIC:                         4.179e+05\n",
       "Df Model:                           7                                         \n",
       "Covariance Type:            nonrobust                                         \n",
       "==============================================================================\n",
       "                 coef    std err          t      P>|t|      [0.025      0.975]\n",
       "------------------------------------------------------------------------------\n",
       "const      -5.148e+04   2526.090    -20.381      0.000   -5.64e+04   -4.65e+04\n",
       "x1          1842.8169     50.691     36.354      0.000    1743.458    1942.176\n",
       "x2           -20.4802      0.938    -21.835      0.000     -22.319     -18.642\n",
       "x3           103.2321      8.403     12.285      0.000      86.762     119.702\n",
       "x4           -33.9732      1.301    -26.122      0.000     -36.522     -31.424\n",
       "x5           123.3902      9.067     13.608      0.000     105.618     141.163\n",
       "x6          4.808e+04    381.612    125.991      0.000    4.73e+04    4.88e+04\n",
       "x7          4019.6334    422.457      9.515      0.000    3191.573    4847.694\n",
       "==============================================================================\n",
       "Omnibus:                     3245.984   Durbin-Watson:                   1.965\n",
       "Prob(Omnibus):                  0.000   Jarque-Bera (JB):            10949.435\n",
       "Skew:                           0.984   Prob(JB):                         0.00\n",
       "Kurtosis:                       6.470   Cond. No.                     1.70e+04\n",
       "==============================================================================\n",
       "\n",
       "Warnings:\n",
       "[1] Standard Errors assume that the covariance matrix of the errors is correctly specified.\n",
       "[2] The condition number is large, 1.7e+04. This might indicate that there are\n",
       "strong multicollinearity or other numerical problems.\n",
       "\"\"\""
      ]
     },
     "execution_count": 69,
     "metadata": {},
     "output_type": "execute_result"
    }
   ],
   "source": [
    "Model=lr.summary()"
   ]
  },
  {
   "cell_type": "code",
   "execution_count": 59,
   "metadata": {
    "colab": {
     "base_uri": "https://localhost:8080/"
    },
    "id": "g0cXEOpLknQE",
    "outputId": "585683c7-97fd-41a0-c40d-0be40499dd99"
   },
   "outputs": [],
   "source": [
    "X_test_smf=smf.add_constant(X_test)\n",
    "y_test_predict= lr.predict(X_test_smf)\n"
   ]
  },
  {
   "cell_type": "code",
   "execution_count": 131,
   "metadata": {
    "colab": {
     "base_uri": "https://localhost:8080/"
    },
    "id": "-55ZwQ3koD7n",
    "outputId": "b88c532b-91f0-4539-a703-b8c1b99e282e"
   },
   "outputs": [
    {
     "name": "stdout",
     "output_type": "stream",
     "text": [
      "MSE Value ------------------->5933592597.446303\n",
      "RMSE Value ------------------->77029.81628854053\n"
     ]
    }
   ],
   "source": [
    "# mse value \n",
    "print(f\"MSE Value ------------------->{mean_squared_error(y_test_predict,y_test)}\")\n",
    "print(f\"RMSE Value ------------------->{math.sqrt(mean_squared_error(y_test_predict,y_test))}\")"
   ]
  },
  {
   "cell_type": "markdown",
   "metadata": {
    "id": "yGYfB7CGiQbj"
   },
   "source": [
    "# Based on median_income field house value prediction\n"
   ]
  },
  {
   "cell_type": "code",
   "execution_count": 111,
   "metadata": {
    "colab": {
     "base_uri": "https://localhost:8080/",
     "height": 206
    },
    "id": "Rm-HQV0aoxFf",
    "outputId": "6e97ee06-d894-4004-9d39-c7d33cb7f827"
   },
   "outputs": [
    {
     "data": {
      "text/html": [
       "<div>\n",
       "<style scoped>\n",
       "    .dataframe tbody tr th:only-of-type {\n",
       "        vertical-align: middle;\n",
       "    }\n",
       "\n",
       "    .dataframe tbody tr th {\n",
       "        vertical-align: top;\n",
       "    }\n",
       "\n",
       "    .dataframe thead th {\n",
       "        text-align: right;\n",
       "    }\n",
       "</style>\n",
       "<table border=\"1\" class=\"dataframe\">\n",
       "  <thead>\n",
       "    <tr style=\"text-align: right;\">\n",
       "      <th></th>\n",
       "      <th>longitude</th>\n",
       "      <th>latitude</th>\n",
       "      <th>housing_median_age</th>\n",
       "      <th>total_rooms</th>\n",
       "      <th>total_bedrooms</th>\n",
       "      <th>population</th>\n",
       "      <th>households</th>\n",
       "      <th>median_income</th>\n",
       "      <th>ocean_proximity</th>\n",
       "      <th>median_house_value</th>\n",
       "    </tr>\n",
       "  </thead>\n",
       "  <tbody>\n",
       "    <tr>\n",
       "      <th>0</th>\n",
       "      <td>-122.23</td>\n",
       "      <td>37.88</td>\n",
       "      <td>41</td>\n",
       "      <td>880</td>\n",
       "      <td>129.0</td>\n",
       "      <td>322</td>\n",
       "      <td>126</td>\n",
       "      <td>8.3252</td>\n",
       "      <td>NEAR BAY</td>\n",
       "      <td>452600</td>\n",
       "    </tr>\n",
       "    <tr>\n",
       "      <th>1</th>\n",
       "      <td>-122.22</td>\n",
       "      <td>37.86</td>\n",
       "      <td>21</td>\n",
       "      <td>7099</td>\n",
       "      <td>1106.0</td>\n",
       "      <td>2401</td>\n",
       "      <td>1138</td>\n",
       "      <td>8.3014</td>\n",
       "      <td>NEAR BAY</td>\n",
       "      <td>358500</td>\n",
       "    </tr>\n",
       "    <tr>\n",
       "      <th>2</th>\n",
       "      <td>-122.24</td>\n",
       "      <td>37.85</td>\n",
       "      <td>52</td>\n",
       "      <td>1467</td>\n",
       "      <td>190.0</td>\n",
       "      <td>496</td>\n",
       "      <td>177</td>\n",
       "      <td>7.2574</td>\n",
       "      <td>NEAR BAY</td>\n",
       "      <td>352100</td>\n",
       "    </tr>\n",
       "    <tr>\n",
       "      <th>3</th>\n",
       "      <td>-122.25</td>\n",
       "      <td>37.85</td>\n",
       "      <td>52</td>\n",
       "      <td>1274</td>\n",
       "      <td>235.0</td>\n",
       "      <td>558</td>\n",
       "      <td>219</td>\n",
       "      <td>5.6431</td>\n",
       "      <td>NEAR BAY</td>\n",
       "      <td>341300</td>\n",
       "    </tr>\n",
       "    <tr>\n",
       "      <th>4</th>\n",
       "      <td>-122.25</td>\n",
       "      <td>37.85</td>\n",
       "      <td>52</td>\n",
       "      <td>1627</td>\n",
       "      <td>280.0</td>\n",
       "      <td>565</td>\n",
       "      <td>259</td>\n",
       "      <td>3.8462</td>\n",
       "      <td>NEAR BAY</td>\n",
       "      <td>342200</td>\n",
       "    </tr>\n",
       "  </tbody>\n",
       "</table>\n",
       "</div>"
      ],
      "text/plain": [
       "   longitude  latitude  housing_median_age  total_rooms  total_bedrooms  \\\n",
       "0    -122.23     37.88                  41          880           129.0   \n",
       "1    -122.22     37.86                  21         7099          1106.0   \n",
       "2    -122.24     37.85                  52         1467           190.0   \n",
       "3    -122.25     37.85                  52         1274           235.0   \n",
       "4    -122.25     37.85                  52         1627           280.0   \n",
       "\n",
       "   population  households  median_income ocean_proximity  median_house_value  \n",
       "0         322         126         8.3252        NEAR BAY              452600  \n",
       "1        2401        1138         8.3014        NEAR BAY              358500  \n",
       "2         496         177         7.2574        NEAR BAY              352100  \n",
       "3         558         219         5.6431        NEAR BAY              341300  \n",
       "4         565         259         3.8462        NEAR BAY              342200  "
      ]
     },
     "execution_count": 111,
     "metadata": {},
     "output_type": "execute_result"
    }
   ],
   "source": [
    "# Perform Linear Regression with one independent variable\n",
    "data = pd.read_csv(\"housing.csv\")\n",
    "data.head()"
   ]
  },
  {
   "cell_type": "code",
   "execution_count": 112,
   "metadata": {
    "colab": {
     "base_uri": "https://localhost:8080/",
     "height": 424
    },
    "id": "2CgdHmoySwoL",
    "outputId": "de8cae49-9cf2-4add-c93a-d46e6370a507"
   },
   "outputs": [
    {
     "data": {
      "text/html": [
       "<div>\n",
       "<style scoped>\n",
       "    .dataframe tbody tr th:only-of-type {\n",
       "        vertical-align: middle;\n",
       "    }\n",
       "\n",
       "    .dataframe tbody tr th {\n",
       "        vertical-align: top;\n",
       "    }\n",
       "\n",
       "    .dataframe thead th {\n",
       "        text-align: right;\n",
       "    }\n",
       "</style>\n",
       "<table border=\"1\" class=\"dataframe\">\n",
       "  <thead>\n",
       "    <tr style=\"text-align: right;\">\n",
       "      <th></th>\n",
       "      <th>median_income</th>\n",
       "      <th>median_house_value</th>\n",
       "    </tr>\n",
       "  </thead>\n",
       "  <tbody>\n",
       "    <tr>\n",
       "      <th>0</th>\n",
       "      <td>8.3252</td>\n",
       "      <td>452600</td>\n",
       "    </tr>\n",
       "    <tr>\n",
       "      <th>1</th>\n",
       "      <td>8.3014</td>\n",
       "      <td>358500</td>\n",
       "    </tr>\n",
       "    <tr>\n",
       "      <th>2</th>\n",
       "      <td>7.2574</td>\n",
       "      <td>352100</td>\n",
       "    </tr>\n",
       "    <tr>\n",
       "      <th>3</th>\n",
       "      <td>5.6431</td>\n",
       "      <td>341300</td>\n",
       "    </tr>\n",
       "    <tr>\n",
       "      <th>4</th>\n",
       "      <td>3.8462</td>\n",
       "      <td>342200</td>\n",
       "    </tr>\n",
       "    <tr>\n",
       "      <th>...</th>\n",
       "      <td>...</td>\n",
       "      <td>...</td>\n",
       "    </tr>\n",
       "    <tr>\n",
       "      <th>20635</th>\n",
       "      <td>1.5603</td>\n",
       "      <td>78100</td>\n",
       "    </tr>\n",
       "    <tr>\n",
       "      <th>20636</th>\n",
       "      <td>2.5568</td>\n",
       "      <td>77100</td>\n",
       "    </tr>\n",
       "    <tr>\n",
       "      <th>20637</th>\n",
       "      <td>1.7000</td>\n",
       "      <td>92300</td>\n",
       "    </tr>\n",
       "    <tr>\n",
       "      <th>20638</th>\n",
       "      <td>1.8672</td>\n",
       "      <td>84700</td>\n",
       "    </tr>\n",
       "    <tr>\n",
       "      <th>20639</th>\n",
       "      <td>2.3886</td>\n",
       "      <td>89400</td>\n",
       "    </tr>\n",
       "  </tbody>\n",
       "</table>\n",
       "<p>20640 rows × 2 columns</p>\n",
       "</div>"
      ],
      "text/plain": [
       "       median_income  median_house_value\n",
       "0             8.3252              452600\n",
       "1             8.3014              358500\n",
       "2             7.2574              352100\n",
       "3             5.6431              341300\n",
       "4             3.8462              342200\n",
       "...              ...                 ...\n",
       "20635         1.5603               78100\n",
       "20636         2.5568               77100\n",
       "20637         1.7000               92300\n",
       "20638         1.8672               84700\n",
       "20639         2.3886               89400\n",
       "\n",
       "[20640 rows x 2 columns]"
      ]
     },
     "execution_count": 112,
     "metadata": {},
     "output_type": "execute_result"
    }
   ],
   "source": [
    "y=data.iloc[:,-1].values\n",
    "X=data.iloc[:,-3].values\n",
    "data.drop([\"longitude\",\"latitude\",\"housing_median_age\",\"total_rooms\",\"total_bedrooms\",\"population\",\"households\",\"ocean_proximity\"],axis=1)"
   ]
  },
  {
   "cell_type": "code",
   "execution_count": 113,
   "metadata": {
    "id": "biRyqBr9T59N"
   },
   "outputs": [],
   "source": [
    "X_train,X_test,y_train,y_test=train_test_split(X,y,test_size=0.2,random_state=42)"
   ]
  },
  {
   "cell_type": "code",
   "execution_count": 114,
   "metadata": {
    "id": "rNY1AqdkT_-e"
   },
   "outputs": [],
   "source": [
    "from sklearn.linear_model import LinearRegression\n",
    "lm=LinearRegression()"
   ]
  },
  {
   "cell_type": "code",
   "execution_count": 115,
   "metadata": {
    "colab": {
     "base_uri": "https://localhost:8080/"
    },
    "id": "aD9l99a8U3II",
    "outputId": "d5985965-ae2f-49cd-8591-9f0a55961465"
   },
   "outputs": [
    {
     "data": {
      "text/plain": [
       "LinearRegression(copy_X=True, fit_intercept=True, n_jobs=None, normalize=False)"
      ]
     },
     "execution_count": 115,
     "metadata": {},
     "output_type": "execute_result"
    }
   ],
   "source": [
    "x_train= X_train.reshape(-1, 1)\n",
    "x_test = X_test.reshape(-1, 1)\n",
    "model=lm.fit(x_train,y_train)\n",
    "model"
   ]
  },
  {
   "cell_type": "code",
   "execution_count": 116,
   "metadata": {
    "colab": {
     "base_uri": "https://localhost:8080/"
    },
    "id": "8KP4o34WWXDk",
    "outputId": "1f87cf6f-7e4f-487e-8b79-00a20d4133b7"
   },
   "outputs": [
    {
     "data": {
      "text/plain": [
       "array([114958.91676996, 150606.88213964, 190393.71844449, ...,\n",
       "       431500.77230409, 161245.49973085, 193412.95560084])"
      ]
     },
     "execution_count": 116,
     "metadata": {},
     "output_type": "execute_result"
    }
   ],
   "source": [
    "y_pred=lm.predict(x_test)\n",
    "y_pred\n"
   ]
  },
  {
   "cell_type": "code",
   "execution_count": 117,
   "metadata": {
    "colab": {
     "base_uri": "https://localhost:8080/"
    },
    "id": "eDKna3MrZxUr",
    "outputId": "21f0dcc0-c961-4805-b44a-b1f7c3bff07f"
   },
   "outputs": [
    {
     "data": {
      "text/plain": [
       "0.45885918903846656"
      ]
     },
     "execution_count": 117,
     "metadata": {},
     "output_type": "execute_result"
    }
   ],
   "source": [
    "r_squr = r2_score(y_test,y_pred)\n",
    "r_squr"
   ]
  },
  {
   "cell_type": "code",
   "execution_count": 118,
   "metadata": {},
   "outputs": [
    {
     "name": "stdout",
     "output_type": "stream",
     "text": [
      "MSE Value ------------------->7091157771.76555\n",
      "RMSE Value ------------------->84209.01241414454\n"
     ]
    }
   ],
   "source": [
    "# mse value \n",
    "print(f\"MSE Value ------------------->{mean_squared_error(y_pred,y_test)}\")\n",
    "print(f\"RMSE Value ------------------->{math.sqrt(mean_squared_error(y_pred,y_test))}\")\n"
   ]
  },
  {
   "cell_type": "code",
   "execution_count": 119,
   "metadata": {},
   "outputs": [
    {
     "name": "stdout",
     "output_type": "stream",
     "text": [
      "median income is 8.3252 and value of the house is  393567.41214244824\n"
     ]
    }
   ],
   "source": [
    "x_samp=pd.DataFrame({'median_income':[8.3252]}) # origina value 402600\n",
    "y_sam_pred1=lm.predict(x_samp)[0]\n",
    "print(f\"median income is 8.3252 and value of the house is  {y_sam_pred1}\")"
   ]
  },
  {
   "cell_type": "markdown",
   "metadata": {
    "id": "np9kkxYGhtJz"
   },
   "source": [
    "# **minimum and maximum value plot**"
   ]
  },
  {
   "cell_type": "code",
   "execution_count": 85,
   "metadata": {
    "colab": {
     "base_uri": "https://localhost:8080/",
     "height": 421
    },
    "id": "TnT3FSh5gd7c",
    "outputId": "1f5852f8-d95d-42d0-bc6c-87b08896af67"
   },
   "outputs": [
    {
     "name": "stdout",
     "output_type": "stream",
     "text": [
      "[ 65422.46048105 673471.66346121]\n",
      "   median_income\n",
      "0         0.4999\n",
      "1        15.0001\n"
     ]
    },
    {
     "data": {
      "text/plain": [
       "[<matplotlib.lines.Line2D at 0x7fd08f67fcd0>]"
      ]
     },
     "execution_count": 85,
     "metadata": {},
     "output_type": "execute_result"
    },
    {
     "data": {
      "image/png": "[encoded data removed]",
      "text/plain": [
       "<Figure size 432x288 with 1 Axes>"
      ]
     },
     "metadata": {
      "needs_background": "light"
     },
     "output_type": "display_data"
    }
   ],
   "source": [
    "import matplotlib.pyplot as plt\n",
    "x_new=pd.DataFrame({'median_income':[data.median_income.min(),data.median_income.max()]})\n",
    "print(y_pred)\n",
    "print(x_new)\n",
    "y_pred=lm.predict(x_new)\n",
    "data.plot(kind=\"scatter\",x=\"median_income\",y=\"median_house_value\") # relation ship bw x and y\n",
    "plt.plot(x_new,y_pred,c='r',linewidth=2)"
   ]
  },
  {
   "cell_type": "markdown",
   "metadata": {},
   "source": [
    "Using state model and try to improve accuracy"
   ]
  },
  {
   "cell_type": "code",
   "execution_count": 89,
   "metadata": {
    "colab": {
     "base_uri": "https://localhost:8080/"
    },
    "id": "5yQbxKjUbPhH",
    "outputId": "245e37d6-aff4-4c67-9fc3-06453761b8d5"
   },
   "outputs": [
    {
     "name": "stdout",
     "output_type": "stream",
     "text": [
      "                          0             1\n",
      "Intercept      42492.643908  47678.509499\n",
      "median_income  41192.485706  42395.212698\n",
      "Intercept        9.882299e-248\n",
      "median_income     0.000000e+00\n",
      "dtype: float64\n",
      "r squred value 0.47344749180719914\n",
      "r squred adj value 0.47342197807000586\n"
     ]
    }
   ],
   "source": [
    "import statsmodels.formula.api as smf\n",
    "lm1=smf.ols(formula=\"median_house_value~median_income\",data=data).fit()\n",
    "print(lm1.conf_int())\n",
    "print(lm1.pvalues)\n",
    "print(f\"r squred value {lm1.rsquared}\")\n",
    "print(f\"r squred adj value {lm1.rsquared_adj}\")"
   ]
  },
  {
   "cell_type": "markdown",
   "metadata": {
    "id": "Ts2F023riFN9"
   },
   "source": [
    "**acuracy checking manually**"
   ]
  },
  {
   "cell_type": "code",
   "execution_count": 107,
   "metadata": {
    "id": "t2Q2KHyyX-5V"
   },
   "outputs": [
    {
     "data": {
      "text/plain": [
       "393567.4121424258"
      ]
     },
     "execution_count": 107,
     "metadata": {},
     "output_type": "execute_result"
    }
   ],
   "source": [
    "#value check\n",
    "#y=mx+c\n",
    "y=41933.84939381*8.3252\t+44459.72916907875\n",
    "y"
   ]
  },
  {
   "cell_type": "code",
   "execution_count": 120,
   "metadata": {
    "id": "fwiOTnlMXUt-"
   },
   "outputs": [
    {
     "name": "stdout",
     "output_type": "stream",
     "text": [
      "median income is 8.3252 and value of the house is  393567.41214244824\n"
     ]
    }
   ],
   "source": [
    "x_samp=pd.DataFrame({'median_income':[8.3252]}) # origina value 402600\n",
    "y_sam_pred1=lm.predict(x_samp)[0]\n",
    "print(f\"median income is 8.3252 and value of the house is  {y_sam_pred1}\")\n"
   ]
  },
  {
   "cell_type": "code",
   "execution_count": null,
   "metadata": {
    "id": "z_cJzVQaXHdT"
   },
   "outputs": [],
   "source": []
  },
  {
   "cell_type": "code",
   "execution_count": null,
   "metadata": {
    "id": "5nOIedQjXPtI"
   },
   "outputs": [],
   "source": []
  }
 ],
 "metadata": {
  "colab": {
   "provenance": []
  },
  "kernelspec": {
   "display_name": "Python 3 (ipykernel)",
   "language": "python",
   "name": "python3"
  },
  "language_info": {
   "codemirror_mode": {
    "name": "ipython",
    "version": 3
   },
   "file_extension": ".py",
   "mimetype": "text/x-python",
   "name": "python",
   "nbconvert_exporter": "python",
   "pygments_lexer": "ipython3",
   "version": "3.7.6"
  }
 },
 "nbformat": 4,
 "nbformat_minor": 1
}
